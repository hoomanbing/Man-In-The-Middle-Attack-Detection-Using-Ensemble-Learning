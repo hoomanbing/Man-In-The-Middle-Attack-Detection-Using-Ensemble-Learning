{
  "metadata": {
    "kernelspec": {
      "language": "python",
      "display_name": "Python 3",
      "name": "python3"
    },
    "language_info": {
      "name": "python",
      "version": "3.10.13",
      "mimetype": "text/x-python",
      "codemirror_mode": {
        "name": "ipython",
        "version": 3
      },
      "pygments_lexer": "ipython3",
      "nbconvert_exporter": "python",
      "file_extension": ".py"
    },
    "kaggle": {
      "accelerator": "nvidiaTeslaT4",
      "dataSources": [
        {
          "sourceId": 1436586,
          "sourceType": "datasetVersion",
          "datasetId": 841692
        }
      ],
      "dockerImageVersionId": 30747,
      "isInternetEnabled": true,
      "language": "python",
      "sourceType": "notebook",
      "isGpuEnabled": true
    },
    "colab": {
      "name": "Man In the Middle",
      "provenance": []
    }
  },
  "nbformat_minor": 0,
  "nbformat": 4,
  "cells": [
    {
      "source": [
        "\n",
        "\n",
        "import os\n",
        "import sys\n",
        "from tempfile import NamedTemporaryFile\n",
        "from urllib.request import urlopen\n",
        "from urllib.parse import unquote, urlparse\n",
        "from urllib.error import HTTPError\n",
        "from zipfile import ZipFile\n",
        "import tarfile\n",
        "import shutil\n",
        "\n",
        "CHUNK_SIZE = 40960\n",
        "DATA_SOURCE_MAPPING = 'network-attack-dataset-kitsune:https%3A%2F%2Fstorage.googleapis.com%2Fkaggle-data-sets%2F841692%2F1436586%2Fbundle%2Farchive.zip%3FX-Goog-Algorithm%3DGOOG4-RSA-SHA256%26X-Goog-Credential%3Dgcp-kaggle-com%2540kaggle-161607.iam.gserviceaccount.com%252F20240818%252Fauto%252Fstorage%252Fgoog4_request%26X-Goog-Date%3D20240818T204709Z%26X-Goog-Expires%3D259200%26X-Goog-SignedHeaders%3Dhost%26X-Goog-Signature%3D96b822e83bee0f6dc105041ef4d3113b1b30a78ee09218f16b574b2e8a907f8edb7f1e3839747ce1cb65de1048cef4f2842f193626a82404650d95a614cfda4d64790d0153f0040f32d9e6ca1372c2bdb9f6a674b56b1493f2a8f091aaee150b8dd000ef8b516802c9b4e5217ea310ae5d7beab9a409cd15790381bd464495f0f5265eecf77645afda7dbd60d994db384f9504f788e00fe016cc3f069674b37e177b59240b23a3b597c2179f22c7d4bdddba43aa4fa9da937b760f7a13bf58d951b46d47c2ba85e9c377b1f531797e3b8f9aed127fc482c821f83ed75ca1450c59f301ca55ff47ad89e7800cb0d33443829f37186365ee60d2e7162ebba02f97'\n",
        "\n",
        "KAGGLE_INPUT_PATH='/kaggle/input'\n",
        "KAGGLE_WORKING_PATH='/kaggle/working'\n",
        "KAGGLE_SYMLINK='kaggle'\n",
        "\n",
        "!umount /kaggle/input/ 2> /dev/null\n",
        "shutil.rmtree('/kaggle/input', ignore_errors=True)\n",
        "os.makedirs(KAGGLE_INPUT_PATH, 0o777, exist_ok=True)\n",
        "os.makedirs(KAGGLE_WORKING_PATH, 0o777, exist_ok=True)\n",
        "\n",
        "try:\n",
        "  os.symlink(KAGGLE_INPUT_PATH, os.path.join(\"..\", 'input'), target_is_directory=True)\n",
        "except FileExistsError:\n",
        "  pass\n",
        "try:\n",
        "  os.symlink(KAGGLE_WORKING_PATH, os.path.join(\"..\", 'working'), target_is_directory=True)\n",
        "except FileExistsError:\n",
        "  pass\n",
        "\n",
        "for data_source_mapping in DATA_SOURCE_MAPPING.split(','):\n",
        "    directory, download_url_encoded = data_source_mapping.split(':')\n",
        "    download_url = unquote(download_url_encoded)\n",
        "    filename = urlparse(download_url).path\n",
        "    destination_path = os.path.join(KAGGLE_INPUT_PATH, directory)\n",
        "    try:\n",
        "        with urlopen(download_url) as fileres, NamedTemporaryFile() as tfile:\n",
        "            total_length = fileres.headers['content-length']\n",
        "            print(f'Downloading {directory}, {total_length} bytes compressed')\n",
        "            dl = 0\n",
        "            data = fileres.read(CHUNK_SIZE)\n",
        "            while len(data) > 0:\n",
        "                dl += len(data)\n",
        "                tfile.write(data)\n",
        "                done = int(50 * dl / int(total_length))\n",
        "                sys.stdout.write(f\"\\r[{'=' * done}{' ' * (50-done)}] {dl} bytes downloaded\")\n",
        "                sys.stdout.flush()\n",
        "                data = fileres.read(CHUNK_SIZE)\n",
        "            if filename.endswith('.zip'):\n",
        "              with ZipFile(tfile) as zfile:\n",
        "                zfile.extractall(destination_path)\n",
        "            else:\n",
        "              with tarfile.open(tfile.name) as tarfile:\n",
        "                tarfile.extractall(destination_path)\n",
        "            print(f'\\nDownloaded and uncompressed: {directory}')\n",
        "    except HTTPError as e:\n",
        "        print(f'Failed to load (likely expired) {download_url} to path {destination_path}')\n",
        "        continue\n",
        "    except OSError as e:\n",
        "        print(f'Failed to load {download_url} to path {destination_path}')\n",
        "        continue\n",
        "\n",
        "print('Data source import complete.')\n"
      ],
      "metadata": {
        "id": "kANuWCX7-QZ5"
      },
      "cell_type": "code",
      "outputs": [],
      "execution_count": null
    },
    {
      "cell_type": "code",
      "source": [
        "# This Python 3 environment comes with many helpful analytics libraries installed\n",
        "# It is defined by the kaggle/python Docker image: https://github.com/kaggle/docker-python\n",
        "# For example, here's several helpful packages to load\n",
        "\n",
        "import numpy as np # linear algebra\n",
        "import pandas as pd # data processing, CSV file I/O (e.g. pd.read_csv)\n",
        "\n",
        "# Input data files are available in the read-only \"../input/\" directory\n",
        "# For example, running this (by clicking run or pressing Shift+Enter) will list all files under the input directory\n",
        "\n",
        "import os\n",
        "for dirname, _, filenames in os.walk('/kaggle/input'):\n",
        "    for filename in filenames:\n",
        "        print(os.path.join(dirname, filename))\n",
        "\n",
        "# You can write up to 20GB to the current directory (/kaggle/working/) that gets preserved as output when you create a version using \"Save & Run All\"\n",
        "# You can also write temporary files to /kaggle/temp/, but they won't be saved outside of the current session"
      ],
      "metadata": {
        "_uuid": "8f2839f25d086af736a60e9eeb907d3b93b6e0e5",
        "_cell_guid": "b1076dfc-b9ad-4769-8c92-a6c4dae69d19",
        "execution": {
          "iopub.status.busy": "2024-08-18T20:37:56.918182Z",
          "iopub.execute_input": "2024-08-18T20:37:56.918534Z",
          "iopub.status.idle": "2024-08-18T20:37:57.301267Z",
          "shell.execute_reply.started": "2024-08-18T20:37:56.918505Z",
          "shell.execute_reply": "2024-08-18T20:37:57.300414Z"
        },
        "trusted": true,
        "id": "mQJPzvmG-QZ_",
        "outputId": "4a2e9c9a-15a9-4b9f-f8f8-08799470fdc6"
      },
      "execution_count": null,
      "outputs": [
        {
          "name": "stdout",
          "text": "/kaggle/input/network-attack-dataset-kitsune/ARP MitM/ARP_MitM_dataset.csv\n/kaggle/input/network-attack-dataset-kitsune/ARP MitM/ARP_MitM_labels.csv\n/kaggle/input/network-attack-dataset-kitsune/ARP MitM/ARP_MitM_pcap.pcapng\n/kaggle/input/network-attack-dataset-kitsune/SYN DoS/SYN_DoS_pcap.pcap\n/kaggle/input/network-attack-dataset-kitsune/SYN DoS/SYN_DoS_dataset.csv\n/kaggle/input/network-attack-dataset-kitsune/SYN DoS/SYN_DoS_labels.csv\n/kaggle/input/network-attack-dataset-kitsune/Active Wiretap/Active_Wiretap_dataset.csv\n/kaggle/input/network-attack-dataset-kitsune/Active Wiretap/Active_Wiretap_pcap.pcapng\n/kaggle/input/network-attack-dataset-kitsune/Active Wiretap/Active_Wiretap_labels.csv\n/kaggle/input/network-attack-dataset-kitsune/SSDP Flood/SSDP_Flood_labels.csv\n/kaggle/input/network-attack-dataset-kitsune/SSDP Flood/SSDP_Flood_pcap.pcap\n/kaggle/input/network-attack-dataset-kitsune/SSDP Flood/SSDP_Flood_dataset.csv\n/kaggle/input/network-attack-dataset-kitsune/Video Injection/Video_Injection_pcap.pcapng\n/kaggle/input/network-attack-dataset-kitsune/Video Injection/Video_Injection_labels.csv\n/kaggle/input/network-attack-dataset-kitsune/Video Injection/Video_Injection_dataset.csv\n/kaggle/input/network-attack-dataset-kitsune/SSL Renegotiation/SSL_Renegotiation_labels.csv\n/kaggle/input/network-attack-dataset-kitsune/SSL Renegotiation/SSL_Renegotiation_dataset.csv\n/kaggle/input/network-attack-dataset-kitsune/SSL Renegotiation/SSL_Renegotiation_pcap.pcap\n/kaggle/input/network-attack-dataset-kitsune/Mirai Botnet/Mirai_dataset.csv\n/kaggle/input/network-attack-dataset-kitsune/Mirai Botnet/Mirai_pcap.pcap\n/kaggle/input/network-attack-dataset-kitsune/Mirai Botnet/mirai_labels.csv\n/kaggle/input/network-attack-dataset-kitsune/Fuzzing/Fuzzing_labels.csv\n/kaggle/input/network-attack-dataset-kitsune/Fuzzing/Fuzzing_pcap.pcapng\n/kaggle/input/network-attack-dataset-kitsune/Fuzzing/Fuzzing_dataset.csv\n/kaggle/input/network-attack-dataset-kitsune/OS Scan/OS_Scan_pcap.pcapng\n/kaggle/input/network-attack-dataset-kitsune/OS Scan/OS_Scan_dataset.csv\n/kaggle/input/network-attack-dataset-kitsune/OS Scan/OS_Scan_labels.csv\n",
          "output_type": "stream"
        }
      ]
    },
    {
      "cell_type": "code",
      "source": [
        "import numpy as np\n",
        "import pandas as pd\n",
        "import os"
      ],
      "metadata": {
        "execution": {
          "iopub.status.busy": "2024-08-18T20:38:02.31326Z",
          "iopub.execute_input": "2024-08-18T20:38:02.313794Z",
          "iopub.status.idle": "2024-08-18T20:38:02.317958Z",
          "shell.execute_reply.started": "2024-08-18T20:38:02.313763Z",
          "shell.execute_reply": "2024-08-18T20:38:02.317025Z"
        },
        "trusted": true,
        "id": "c-XkR-SC-QaB"
      },
      "execution_count": null,
      "outputs": []
    },
    {
      "cell_type": "code",
      "source": [
        "directory = \"/kaggle/input/network-attack-dataset-kitsune\"\n",
        "\n",
        "processed_datasets = {}"
      ],
      "metadata": {
        "execution": {
          "iopub.status.busy": "2024-08-18T20:38:03.114365Z",
          "iopub.execute_input": "2024-08-18T20:38:03.114719Z",
          "iopub.status.idle": "2024-08-18T20:38:03.119074Z",
          "shell.execute_reply.started": "2024-08-18T20:38:03.114689Z",
          "shell.execute_reply": "2024-08-18T20:38:03.118047Z"
        },
        "trusted": true,
        "id": "4WJ9I7w0-QaC"
      },
      "execution_count": null,
      "outputs": []
    },
    {
      "cell_type": "markdown",
      "source": [
        "0 : GOOD\n",
        "1: MITM"
      ],
      "metadata": {
        "id": "MN_W4JyC-QaD"
      }
    },
    {
      "cell_type": "code",
      "source": [
        "encoded_attacks = {0: None, 1:\"ARP MitM\" }"
      ],
      "metadata": {
        "execution": {
          "iopub.status.busy": "2024-08-18T20:39:11.909844Z",
          "iopub.execute_input": "2024-08-18T20:39:11.910214Z",
          "iopub.status.idle": "2024-08-18T20:39:11.914826Z",
          "shell.execute_reply.started": "2024-08-18T20:39:11.910179Z",
          "shell.execute_reply": "2024-08-18T20:39:11.913703Z"
        },
        "trusted": true,
        "id": "mNd1zIE2-QaG"
      },
      "execution_count": null,
      "outputs": []
    },
    {
      "cell_type": "code",
      "source": [
        "seed = 42\n",
        "fraction= 1.0"
      ],
      "metadata": {
        "execution": {
          "iopub.status.busy": "2024-08-18T20:39:13.565086Z",
          "iopub.execute_input": "2024-08-18T20:39:13.565853Z",
          "iopub.status.idle": "2024-08-18T20:39:13.56989Z",
          "shell.execute_reply.started": "2024-08-18T20:39:13.565819Z",
          "shell.execute_reply": "2024-08-18T20:39:13.568733Z"
        },
        "trusted": true,
        "id": "KbuK3aTW-QaH"
      },
      "execution_count": null,
      "outputs": []
    },
    {
      "cell_type": "code",
      "source": [
        "def process_dataset(dataset_path, labels_path, dataset_name):\n",
        "    dataset = pd.read_csv(dataset_path)\n",
        "    print(\"read dataset: \", dataset_path)\n",
        "    labels = pd.read_csv(labels_path, index_col=\"Unnamed: 0\")\n",
        "    labels.rename(columns={'x': 'labels'}, inplace=True)\n",
        "    dataset = pd.concat([labels, dataset], axis=1)\n",
        "    dataset = dataset.sample(frac=fraction, random_state=seed)\n",
        "    return dataset"
      ],
      "metadata": {
        "execution": {
          "iopub.status.busy": "2024-08-18T20:39:14.667608Z",
          "iopub.execute_input": "2024-08-18T20:39:14.667951Z",
          "iopub.status.idle": "2024-08-18T20:39:14.674156Z",
          "shell.execute_reply.started": "2024-08-18T20:39:14.667925Z",
          "shell.execute_reply": "2024-08-18T20:39:14.673206Z"
        },
        "trusted": true,
        "id": "vkQVL298-QaI"
      },
      "execution_count": null,
      "outputs": []
    },
    {
      "cell_type": "code",
      "source": [
        "datasets = [\"ARP MitM/ARP_MitM_dataset.csv\"]\n",
        "labels = [\"ARP MitM/ARP_MitM_labels.csv\"]"
      ],
      "metadata": {
        "execution": {
          "iopub.status.busy": "2024-08-18T20:39:15.681973Z",
          "iopub.execute_input": "2024-08-18T20:39:15.68234Z",
          "iopub.status.idle": "2024-08-18T20:39:15.686638Z",
          "shell.execute_reply.started": "2024-08-18T20:39:15.682311Z",
          "shell.execute_reply": "2024-08-18T20:39:15.685649Z"
        },
        "trusted": true,
        "id": "cQygb1lV-QaJ"
      },
      "execution_count": null,
      "outputs": []
    },
    {
      "cell_type": "code",
      "source": [
        "dataset_array = []\n",
        "if not os.path.exists(\"/kaggle/working/combined dataset.csv\"):\n",
        "    for index, (dataset_path, labels_path) in enumerate(zip(datasets, labels)):\n",
        "        dataset_path = directory + \"/\" + dataset_path\n",
        "        labels_path = directory + \"/\" + labels_path\n",
        "        name = encoded_attacks[index+1]\n",
        "        print(\"processing: \", name, dataset_path, labels_path)\n",
        "        result = process_dataset(dataset_path, labels_path, name)\n",
        "        #result.to_csv(\"/kaggle/working/\" + name + \".csv\", index=False)\n",
        "        result['labels'] = result['labels'].replace(1, index+1)\n",
        "        dataset_array.append(result)"
      ],
      "metadata": {
        "execution": {
          "iopub.status.busy": "2024-08-18T20:39:16.901336Z",
          "iopub.execute_input": "2024-08-18T20:39:16.90171Z",
          "iopub.status.idle": "2024-08-18T20:40:43.269588Z",
          "shell.execute_reply.started": "2024-08-18T20:39:16.901681Z",
          "shell.execute_reply": "2024-08-18T20:40:43.268706Z"
        },
        "trusted": true,
        "id": "X0QNRaZV-QaJ",
        "outputId": "d06b9559-4228-4cbd-92e7-9cde80de60d6"
      },
      "execution_count": null,
      "outputs": [
        {
          "name": "stdout",
          "text": "processing:  ARP MitM /kaggle/input/network-attack-dataset-kitsune/ARP MitM/ARP_MitM_dataset.csv /kaggle/input/network-attack-dataset-kitsune/ARP MitM/ARP_MitM_labels.csv\nread dataset:  /kaggle/input/network-attack-dataset-kitsune/ARP MitM/ARP_MitM_dataset.csv\n",
          "output_type": "stream"
        }
      ]
    },
    {
      "cell_type": "code",
      "source": [
        "combined_dataset = pd.concat(dataset_array, ignore_index=True)"
      ],
      "metadata": {
        "execution": {
          "iopub.status.busy": "2024-08-18T20:40:43.271232Z",
          "iopub.execute_input": "2024-08-18T20:40:43.271515Z",
          "iopub.status.idle": "2024-08-18T20:40:43.276081Z",
          "shell.execute_reply.started": "2024-08-18T20:40:43.271491Z",
          "shell.execute_reply": "2024-08-18T20:40:43.275109Z"
        },
        "trusted": true,
        "id": "8YvKj8D6-QaK"
      },
      "execution_count": null,
      "outputs": []
    },
    {
      "cell_type": "code",
      "source": [
        "combined_dataset"
      ],
      "metadata": {
        "execution": {
          "iopub.status.busy": "2024-08-18T20:40:43.277041Z",
          "iopub.execute_input": "2024-08-18T20:40:43.277331Z",
          "iopub.status.idle": "2024-08-18T20:40:43.789503Z",
          "shell.execute_reply.started": "2024-08-18T20:40:43.277307Z",
          "shell.execute_reply": "2024-08-18T20:40:43.788619Z"
        },
        "trusted": true,
        "id": "mZ-1SrC1-QaL",
        "outputId": "fa279f03-606d-40fd-9fbc-c7bd77952140"
      },
      "execution_count": null,
      "outputs": [
        {
          "execution_count": 12,
          "output_type": "execute_result",
          "data": {
            "text/plain": "         labels  1.000000000000000000e+00  1.294000000000000000e+03  \\\n0           1.0                495.272466               1352.546176   \n1           0.0                412.054667               1334.769742   \n2           1.0                425.526722               1346.567794   \n3           0.0                357.863937               1335.776896   \n4           1.0                349.475110               1314.635686   \n...         ...                       ...                       ...   \n2504263     0.0                413.885235               1327.770264   \n2504264     1.0                173.421661               1286.663564   \n2504265     1.0                253.672414               1311.625922   \n2504266     1.0                329.604380               1348.749257   \n2504267     1.0                383.955296               1327.258179   \n\n         0.000000000000000000e+00  1.000000000000000000e+00.1  \\\n0                   178795.549996                  759.404636   \n1                   187516.858929                  682.582928   \n2                   180188.422682                  677.162344   \n3                   192856.050446                  607.171848   \n4                   213338.221091                  550.112801   \n...                           ...                         ...   \n2504263             196803.299682                  690.135943   \n2504264             149220.253311                  295.220281   \n2504265             127365.106546                  365.910882   \n2504266             166733.099337                  588.828508   \n2504267             190418.282461                  648.235759   \n\n         1.294000000000000000e+03.1  0.000000000000000000e+00.1  \\\n0                       1345.809028               183104.796306   \n1                       1335.446644               187019.449119   \n2                       1342.512981               181300.876420   \n3                       1333.794648               191871.651603   \n4                       1322.823867               203413.772628   \n...                             ...                         ...   \n2504263                 1331.211089               193469.509589   \n2504264                 1290.144401               147067.422666   \n2504265                 1305.004463               133119.700499   \n2504266                 1348.409138               168575.070488   \n2504267                 1331.994356               186443.943957   \n\n         1.000000000000000000e+00.2  1.294000000000000000e+03.2  \\\n0                       2068.895607                 1341.165486   \n1                       1996.815059                 1338.049033   \n2                       1976.636800                 1339.692526   \n3                       1902.281015                 1336.414678   \n4                        983.081175                 1329.470254   \n...                             ...                         ...   \n2504263                 2006.618581                 1337.081806   \n2504264                  886.316286                 1294.199246   \n2504265                  943.035024                 1298.588741   \n2504266                 1899.945077                 1348.034803   \n2504267                 1952.846107                 1336.904333   \n\n         0.000000000000000000e+00.2  ...  0.000000000000000000e+00.48  \\\n0                     183491.762251  ...                181982.508635   \n1                     184429.565157  ...                181968.812206   \n2                     182428.748752  ...                181372.259451   \n3                     185997.159146  ...                178074.004321   \n4                     194587.213464  ...                181180.989375   \n...                             ...  ...                          ...   \n2504263               186305.909162  ...                180964.318198   \n2504264               143218.033087  ...                180540.648775   \n2504265               138239.617630  ...                180317.378824   \n2504266               170864.631984  ...                178340.304050   \n2504267               182792.038865  ...                181466.185856   \n\n         0.000000000000000000e+00.49  0.000000000000000000e+00.50  \\\n0                                0.0                          0.0   \n1                                0.0                          0.0   \n2                                0.0                          0.0   \n3                                0.0                          0.0   \n4                                0.0                          0.0   \n...                              ...                          ...   \n2504263                          0.0                          0.0   \n2504264                          0.0                          0.0   \n2504265                          0.0                          0.0   \n2504266                          0.0                          0.0   \n2504267                          0.0                          0.0   \n\n         1.000000000000000000e+00.24  1.294000000000000000e+03.28  \\\n0                       27995.700440                  1341.102062   \n1                       17750.030522                  1340.553481   \n2                       28030.857278                  1341.146691   \n3                       27496.155213                  1341.883396   \n4                       27845.641631                  1341.419624   \n...                              ...                          ...   \n2504263                  8670.381058                  1341.527732   \n2504264                 28090.281207                  1335.306083   \n2504265                 28196.527201                  1334.928658   \n2504266                 28036.556675                  1341.243448   \n2504267                 28034.829847                  1340.958291   \n\n         0.000000000000000000e+00.51  1.294000000000000000e+03.29  \\\n0                         425.393650                  1341.102062   \n1                         426.288008                  1340.553481   \n2                         425.611009                  1341.146691   \n3                         424.360580                  1341.883396   \n4                         424.837719                  1341.419624   \n...                              ...                          ...   \n2504263                   424.841607                  1341.527732   \n2504264                   426.161125                  1335.306083   \n2504265                   426.585893                  1334.928658   \n2504266                   425.217871                  1341.243448   \n2504267                   425.621214                  1340.958291   \n\n         0.000000000000000000e+00.52  0.000000000000000000e+00.53  \\\n0                      180959.757090                          0.0   \n1                      181721.465975                          0.0   \n2                      181144.731088                          0.0   \n3                      180081.902047                          0.0   \n4                      180487.087550                          0.0   \n...                              ...                          ...   \n2504263                180490.391303                          0.0   \n2504264                181613.304362                          0.0   \n2504265                181975.524434                          0.0   \n2504266                180810.238111                          0.0   \n2504267                181153.417480                          0.0   \n\n         0.000000000000000000e+00.54  \n0                                0.0  \n1                                0.0  \n2                                0.0  \n3                                0.0  \n4                                0.0  \n...                              ...  \n2504263                          0.0  \n2504264                          0.0  \n2504265                          0.0  \n2504266                          0.0  \n2504267                          0.0  \n\n[2504268 rows x 116 columns]",
            "text/html": "<div>\n<style scoped>\n    .dataframe tbody tr th:only-of-type {\n        vertical-align: middle;\n    }\n\n    .dataframe tbody tr th {\n        vertical-align: top;\n    }\n\n    .dataframe thead th {\n        text-align: right;\n    }\n</style>\n<table border=\"1\" class=\"dataframe\">\n  <thead>\n    <tr style=\"text-align: right;\">\n      <th></th>\n      <th>labels</th>\n      <th>1.000000000000000000e+00</th>\n      <th>1.294000000000000000e+03</th>\n      <th>0.000000000000000000e+00</th>\n      <th>1.000000000000000000e+00.1</th>\n      <th>1.294000000000000000e+03.1</th>\n      <th>0.000000000000000000e+00.1</th>\n      <th>1.000000000000000000e+00.2</th>\n      <th>1.294000000000000000e+03.2</th>\n      <th>0.000000000000000000e+00.2</th>\n      <th>...</th>\n      <th>0.000000000000000000e+00.48</th>\n      <th>0.000000000000000000e+00.49</th>\n      <th>0.000000000000000000e+00.50</th>\n      <th>1.000000000000000000e+00.24</th>\n      <th>1.294000000000000000e+03.28</th>\n      <th>0.000000000000000000e+00.51</th>\n      <th>1.294000000000000000e+03.29</th>\n      <th>0.000000000000000000e+00.52</th>\n      <th>0.000000000000000000e+00.53</th>\n      <th>0.000000000000000000e+00.54</th>\n    </tr>\n  </thead>\n  <tbody>\n    <tr>\n      <th>0</th>\n      <td>1.0</td>\n      <td>495.272466</td>\n      <td>1352.546176</td>\n      <td>178795.549996</td>\n      <td>759.404636</td>\n      <td>1345.809028</td>\n      <td>183104.796306</td>\n      <td>2068.895607</td>\n      <td>1341.165486</td>\n      <td>183491.762251</td>\n      <td>...</td>\n      <td>181982.508635</td>\n      <td>0.0</td>\n      <td>0.0</td>\n      <td>27995.700440</td>\n      <td>1341.102062</td>\n      <td>425.393650</td>\n      <td>1341.102062</td>\n      <td>180959.757090</td>\n      <td>0.0</td>\n      <td>0.0</td>\n    </tr>\n    <tr>\n      <th>1</th>\n      <td>0.0</td>\n      <td>412.054667</td>\n      <td>1334.769742</td>\n      <td>187516.858929</td>\n      <td>682.582928</td>\n      <td>1335.446644</td>\n      <td>187019.449119</td>\n      <td>1996.815059</td>\n      <td>1338.049033</td>\n      <td>184429.565157</td>\n      <td>...</td>\n      <td>181968.812206</td>\n      <td>0.0</td>\n      <td>0.0</td>\n      <td>17750.030522</td>\n      <td>1340.553481</td>\n      <td>426.288008</td>\n      <td>1340.553481</td>\n      <td>181721.465975</td>\n      <td>0.0</td>\n      <td>0.0</td>\n    </tr>\n    <tr>\n      <th>2</th>\n      <td>1.0</td>\n      <td>425.526722</td>\n      <td>1346.567794</td>\n      <td>180188.422682</td>\n      <td>677.162344</td>\n      <td>1342.512981</td>\n      <td>181300.876420</td>\n      <td>1976.636800</td>\n      <td>1339.692526</td>\n      <td>182428.748752</td>\n      <td>...</td>\n      <td>181372.259451</td>\n      <td>0.0</td>\n      <td>0.0</td>\n      <td>28030.857278</td>\n      <td>1341.146691</td>\n      <td>425.611009</td>\n      <td>1341.146691</td>\n      <td>181144.731088</td>\n      <td>0.0</td>\n      <td>0.0</td>\n    </tr>\n    <tr>\n      <th>3</th>\n      <td>0.0</td>\n      <td>357.863937</td>\n      <td>1335.776896</td>\n      <td>192856.050446</td>\n      <td>607.171848</td>\n      <td>1333.794648</td>\n      <td>191871.651603</td>\n      <td>1902.281015</td>\n      <td>1336.414678</td>\n      <td>185997.159146</td>\n      <td>...</td>\n      <td>178074.004321</td>\n      <td>0.0</td>\n      <td>0.0</td>\n      <td>27496.155213</td>\n      <td>1341.883396</td>\n      <td>424.360580</td>\n      <td>1341.883396</td>\n      <td>180081.902047</td>\n      <td>0.0</td>\n      <td>0.0</td>\n    </tr>\n    <tr>\n      <th>4</th>\n      <td>1.0</td>\n      <td>349.475110</td>\n      <td>1314.635686</td>\n      <td>213338.221091</td>\n      <td>550.112801</td>\n      <td>1322.823867</td>\n      <td>203413.772628</td>\n      <td>983.081175</td>\n      <td>1329.470254</td>\n      <td>194587.213464</td>\n      <td>...</td>\n      <td>181180.989375</td>\n      <td>0.0</td>\n      <td>0.0</td>\n      <td>27845.641631</td>\n      <td>1341.419624</td>\n      <td>424.837719</td>\n      <td>1341.419624</td>\n      <td>180487.087550</td>\n      <td>0.0</td>\n      <td>0.0</td>\n    </tr>\n    <tr>\n      <th>...</th>\n      <td>...</td>\n      <td>...</td>\n      <td>...</td>\n      <td>...</td>\n      <td>...</td>\n      <td>...</td>\n      <td>...</td>\n      <td>...</td>\n      <td>...</td>\n      <td>...</td>\n      <td>...</td>\n      <td>...</td>\n      <td>...</td>\n      <td>...</td>\n      <td>...</td>\n      <td>...</td>\n      <td>...</td>\n      <td>...</td>\n      <td>...</td>\n      <td>...</td>\n      <td>...</td>\n    </tr>\n    <tr>\n      <th>2504263</th>\n      <td>0.0</td>\n      <td>413.885235</td>\n      <td>1327.770264</td>\n      <td>196803.299682</td>\n      <td>690.135943</td>\n      <td>1331.211089</td>\n      <td>193469.509589</td>\n      <td>2006.618581</td>\n      <td>1337.081806</td>\n      <td>186305.909162</td>\n      <td>...</td>\n      <td>180964.318198</td>\n      <td>0.0</td>\n      <td>0.0</td>\n      <td>8670.381058</td>\n      <td>1341.527732</td>\n      <td>424.841607</td>\n      <td>1341.527732</td>\n      <td>180490.391303</td>\n      <td>0.0</td>\n      <td>0.0</td>\n    </tr>\n    <tr>\n      <th>2504264</th>\n      <td>1.0</td>\n      <td>173.421661</td>\n      <td>1286.663564</td>\n      <td>149220.253311</td>\n      <td>295.220281</td>\n      <td>1290.144401</td>\n      <td>147067.422666</td>\n      <td>886.316286</td>\n      <td>1294.199246</td>\n      <td>143218.033087</td>\n      <td>...</td>\n      <td>180540.648775</td>\n      <td>0.0</td>\n      <td>0.0</td>\n      <td>28090.281207</td>\n      <td>1335.306083</td>\n      <td>426.161125</td>\n      <td>1335.306083</td>\n      <td>181613.304362</td>\n      <td>0.0</td>\n      <td>0.0</td>\n    </tr>\n    <tr>\n      <th>2504265</th>\n      <td>1.0</td>\n      <td>253.672414</td>\n      <td>1311.625922</td>\n      <td>127365.106546</td>\n      <td>365.910882</td>\n      <td>1305.004463</td>\n      <td>133119.700499</td>\n      <td>943.035024</td>\n      <td>1298.588741</td>\n      <td>138239.617630</td>\n      <td>...</td>\n      <td>180317.378824</td>\n      <td>0.0</td>\n      <td>0.0</td>\n      <td>28196.527201</td>\n      <td>1334.928658</td>\n      <td>426.585893</td>\n      <td>1334.928658</td>\n      <td>181975.524434</td>\n      <td>0.0</td>\n      <td>0.0</td>\n    </tr>\n    <tr>\n      <th>2504266</th>\n      <td>1.0</td>\n      <td>329.604380</td>\n      <td>1348.749257</td>\n      <td>166733.099337</td>\n      <td>588.828508</td>\n      <td>1348.409138</td>\n      <td>168575.070488</td>\n      <td>1899.945077</td>\n      <td>1348.034803</td>\n      <td>170864.631984</td>\n      <td>...</td>\n      <td>178340.304050</td>\n      <td>0.0</td>\n      <td>0.0</td>\n      <td>28036.556675</td>\n      <td>1341.243448</td>\n      <td>425.217871</td>\n      <td>1341.243448</td>\n      <td>180810.238111</td>\n      <td>0.0</td>\n      <td>0.0</td>\n    </tr>\n    <tr>\n      <th>2504267</th>\n      <td>1.0</td>\n      <td>383.955296</td>\n      <td>1327.258179</td>\n      <td>190418.282461</td>\n      <td>648.235759</td>\n      <td>1331.994356</td>\n      <td>186443.943957</td>\n      <td>1952.846107</td>\n      <td>1336.904333</td>\n      <td>182792.038865</td>\n      <td>...</td>\n      <td>181466.185856</td>\n      <td>0.0</td>\n      <td>0.0</td>\n      <td>28034.829847</td>\n      <td>1340.958291</td>\n      <td>425.621214</td>\n      <td>1340.958291</td>\n      <td>181153.417480</td>\n      <td>0.0</td>\n      <td>0.0</td>\n    </tr>\n  </tbody>\n</table>\n<p>2504268 rows × 116 columns</p>\n</div>"
          },
          "metadata": {}
        }
      ]
    },
    {
      "cell_type": "code",
      "source": [
        "combined_dataset.dropna(subset=['labels'], inplace=True)\n",
        "combined_dataset.fillna(0, inplace=True)"
      ],
      "metadata": {
        "execution": {
          "iopub.status.busy": "2024-08-18T20:40:43.791871Z",
          "iopub.execute_input": "2024-08-18T20:40:43.792313Z",
          "iopub.status.idle": "2024-08-18T20:40:49.77159Z",
          "shell.execute_reply.started": "2024-08-18T20:40:43.792278Z",
          "shell.execute_reply": "2024-08-18T20:40:49.770806Z"
        },
        "trusted": true,
        "id": "3_odWnW4-QaL"
      },
      "execution_count": null,
      "outputs": []
    },
    {
      "cell_type": "code",
      "source": [
        "df_original_data = combined_dataset"
      ],
      "metadata": {
        "execution": {
          "iopub.status.busy": "2024-08-18T20:41:40.692619Z",
          "iopub.execute_input": "2024-08-18T20:41:40.693338Z",
          "iopub.status.idle": "2024-08-18T20:41:40.697614Z",
          "shell.execute_reply.started": "2024-08-18T20:41:40.693305Z",
          "shell.execute_reply": "2024-08-18T20:41:40.696536Z"
        },
        "trusted": true,
        "id": "5BYDf4q_-QaM"
      },
      "execution_count": null,
      "outputs": []
    },
    {
      "cell_type": "code",
      "source": [
        "df_numerical_data_reduced = df_original_data.iloc[:10000 , :] #Reducing dataset"
      ],
      "metadata": {
        "execution": {
          "iopub.status.busy": "2024-08-18T20:45:56.931711Z",
          "iopub.execute_input": "2024-08-18T20:45:56.932394Z",
          "iopub.status.idle": "2024-08-18T20:45:56.937028Z",
          "shell.execute_reply.started": "2024-08-18T20:45:56.932364Z",
          "shell.execute_reply": "2024-08-18T20:45:56.936025Z"
        },
        "trusted": true,
        "id": "KFPnVMLO-QaM"
      },
      "execution_count": null,
      "outputs": []
    },
    {
      "cell_type": "code",
      "source": [
        "df_numerical_data = df_numerical_data_reduced[df_numerical_data_reduced.columns.difference(['labels'])]"
      ],
      "metadata": {
        "trusted": true,
        "id": "yUaYdz1e-QaM"
      },
      "execution_count": null,
      "outputs": []
    },
    {
      "cell_type": "code",
      "source": [
        "targets_num = df_numerical_data_reduced[\"labels\"]"
      ],
      "metadata": {
        "trusted": true,
        "id": "26oMKwgD-QaN"
      },
      "execution_count": null,
      "outputs": []
    },
    {
      "cell_type": "code",
      "source": [
        "df_numerical_data.shape"
      ],
      "metadata": {
        "execution": {
          "iopub.status.busy": "2024-08-18T20:46:01.175723Z",
          "iopub.execute_input": "2024-08-18T20:46:01.176108Z",
          "iopub.status.idle": "2024-08-18T20:46:01.182178Z",
          "shell.execute_reply.started": "2024-08-18T20:46:01.176078Z",
          "shell.execute_reply": "2024-08-18T20:46:01.181267Z"
        },
        "trusted": true,
        "id": "DEI8qxk3-QaN",
        "outputId": "1e5c1542-5b4f-4d9d-80d7-79f55045c703"
      },
      "execution_count": null,
      "outputs": [
        {
          "execution_count": 34,
          "output_type": "execute_result",
          "data": {
            "text/plain": "(10000, 115)"
          },
          "metadata": {}
        }
      ]
    },
    {
      "cell_type": "code",
      "source": [
        "from sklearn.model_selection import train_test_split\n",
        "\n",
        "X_train, X_test, y_train, y_test = train_test_split(df_numerical_data,targets_num,test_size=0.30, train_size=0.70,random_state=42)"
      ],
      "metadata": {
        "execution": {
          "iopub.status.busy": "2024-08-18T20:46:03.450422Z",
          "iopub.execute_input": "2024-08-18T20:46:03.451148Z",
          "iopub.status.idle": "2024-08-18T20:46:03.46467Z",
          "shell.execute_reply.started": "2024-08-18T20:46:03.451116Z",
          "shell.execute_reply": "2024-08-18T20:46:03.463902Z"
        },
        "trusted": true,
        "id": "g-NWeqKx-QaN"
      },
      "execution_count": null,
      "outputs": []
    },
    {
      "cell_type": "code",
      "source": [
        "from sklearn.ensemble import  VotingClassifier"
      ],
      "metadata": {
        "execution": {
          "iopub.status.busy": "2024-08-18T20:46:05.052728Z",
          "iopub.execute_input": "2024-08-18T20:46:05.053578Z",
          "iopub.status.idle": "2024-08-18T20:46:05.057753Z",
          "shell.execute_reply.started": "2024-08-18T20:46:05.053546Z",
          "shell.execute_reply": "2024-08-18T20:46:05.056779Z"
        },
        "trusted": true,
        "id": "IqwG1xHG-QaO"
      },
      "execution_count": null,
      "outputs": []
    },
    {
      "cell_type": "code",
      "source": [
        "from sklearn.neighbors import KNeighborsClassifier\n",
        "from sklearn.svm import SVC\n",
        "from sklearn.tree import DecisionTreeClassifier\n",
        "from sklearn.ensemble import RandomForestClassifier, BaggingClassifier, ExtraTreesClassifier, GradientBoostingClassifier, HistGradientBoostingClassifier\n",
        "from xgboost import XGBClassifier\n",
        "from sklearn.neural_network import MLPClassifier\n",
        "from sklearn.naive_bayes import GaussianNB\n",
        "from sklearn.metrics import classification_report, confusion_matrix"
      ],
      "metadata": {
        "execution": {
          "iopub.status.busy": "2024-08-18T20:43:09.147786Z",
          "iopub.execute_input": "2024-08-18T20:43:09.148456Z",
          "iopub.status.idle": "2024-08-18T20:43:09.153833Z",
          "shell.execute_reply.started": "2024-08-18T20:43:09.148424Z",
          "shell.execute_reply": "2024-08-18T20:43:09.152792Z"
        },
        "trusted": true,
        "id": "kb2Vt1wZ-QaO"
      },
      "execution_count": null,
      "outputs": []
    },
    {
      "cell_type": "code",
      "source": [
        "\n",
        "# Initialize the individual classifiers\n",
        "clf1 = RandomForestClassifier(n_estimators=100, random_state=42)\n",
        "clf2 = GaussianNB()\n",
        "clf3 = DecisionTreeClassifier(random_state=42)\n",
        "clf4 = SVC(probability=True, random_state=42)  # SVM with probability=True for soft voting\n",
        "\n",
        "# Create the ensemble model using soft voting\n",
        "ensemble_model = VotingClassifier(estimators=[\n",
        "    ('rf', clf1),\n",
        "    ('nb', clf2),\n",
        "    ('dt', clf3),\n",
        "    ('svm', clf4)\n",
        "], voting='soft')\n",
        "# Train the ensemble model\n",
        "ensemble_model.fit(X_train, y_train)\n",
        "\n",
        "# Predict using the ensemble model\n",
        "y_pred = ensemble_model.predict(X_test)\n"
      ],
      "metadata": {
        "execution": {
          "iopub.status.busy": "2024-08-18T20:46:07.149896Z",
          "iopub.execute_input": "2024-08-18T20:46:07.150733Z",
          "iopub.status.idle": "2024-08-18T20:46:40.423117Z",
          "shell.execute_reply.started": "2024-08-18T20:46:07.150699Z",
          "shell.execute_reply": "2024-08-18T20:46:40.422272Z"
        },
        "trusted": true,
        "id": "52i7MQoR-QaO"
      },
      "execution_count": null,
      "outputs": []
    },
    {
      "cell_type": "code",
      "source": [
        "report = classification_report(y_test, y_pred)"
      ],
      "metadata": {
        "execution": {
          "iopub.status.busy": "2024-08-18T20:46:53.278565Z",
          "iopub.execute_input": "2024-08-18T20:46:53.279212Z",
          "iopub.status.idle": "2024-08-18T20:46:53.298794Z",
          "shell.execute_reply.started": "2024-08-18T20:46:53.279181Z",
          "shell.execute_reply": "2024-08-18T20:46:53.298141Z"
        },
        "trusted": true,
        "id": "Cxtz0H66-QaO"
      },
      "execution_count": null,
      "outputs": []
    },
    {
      "cell_type": "code",
      "source": [
        "print(report)"
      ],
      "metadata": {
        "execution": {
          "iopub.status.busy": "2024-08-18T20:46:54.843261Z",
          "iopub.execute_input": "2024-08-18T20:46:54.8436Z",
          "iopub.status.idle": "2024-08-18T20:46:54.848818Z",
          "shell.execute_reply.started": "2024-08-18T20:46:54.843574Z",
          "shell.execute_reply": "2024-08-18T20:46:54.847693Z"
        },
        "trusted": true,
        "id": "wAz6OkXh-QaP",
        "outputId": "002e8fa9-232b-4209-9269-8c25daccb5c5"
      },
      "execution_count": null,
      "outputs": [
        {
          "name": "stdout",
          "text": "              precision    recall  f1-score   support\n\n         0.0       1.00      0.95      0.98      1670\n         1.0       0.95      1.00      0.97      1330\n\n    accuracy                           0.97      3000\n   macro avg       0.97      0.98      0.97      3000\nweighted avg       0.98      0.97      0.97      3000\n\n",
          "output_type": "stream"
        }
      ]
    }
  ]
}